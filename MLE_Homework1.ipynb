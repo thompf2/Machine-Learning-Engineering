{
  "nbformat": 4,
  "nbformat_minor": 0,
  "metadata": {
    "colab": {
      "provenance": [],
      "authorship_tag": "ABX9TyOsztfFph6wDijmjVlSFiLX",
      "include_colab_link": true
    },
    "kernelspec": {
      "name": "python3",
      "display_name": "Python 3"
    },
    "language_info": {
      "name": "python"
    }
  },
  "cells": [
    {
      "cell_type": "markdown",
      "metadata": {
        "id": "view-in-github",
        "colab_type": "text"
      },
      "source": [
        "<a href=\"https://colab.research.google.com/github/thompf2/Machine-Learning-Engineering/blob/main/MLE_Homework1.ipynb\" target=\"_parent\"><img src=\"https://colab.research.google.com/assets/colab-badge.svg\" alt=\"Open In Colab\"/></a>"
      ]
    },
    {
      "cell_type": "markdown",
      "source": [
        "HOMEWORK #1\n",
        "\n",
        "FAYDIA THOMPSON (RIN: 662020314)\n",
        "\n",
        "\n",
        "PROBLEM 1:\n",
        "\n",
        "A. There are 5 features in $x_{1}$ and 4 features in $x_{2}$.\n",
        "\n",
        "B. For $x_{1}$:\n",
        "\n",
        "$L_{1}$: 26\n",
        "\n",
        "$L_{2}$: 13.19090595827292\n",
        "\n",
        "$L_{\\infty}$: 9\n",
        "\n",
        "For $x_{2}$:\n",
        "\n",
        "$L_{1}$: 98\n",
        "\n",
        "$L_{2}$: 89.16277250063504\n",
        "\n",
        "$L_{\\infty}$: 89\n",
        "\n"
      ],
      "metadata": {
        "id": "Sgw6mp0ptf0q"
      }
    },
    {
      "cell_type": "code",
      "execution_count": null,
      "metadata": {
        "colab": {
          "base_uri": "https://localhost:8080/"
        },
        "id": "rVWWzSpYtfQB",
        "outputId": "6e39ad21-67a8-44d9-d88e-7760f9ea3117"
      },
      "outputs": [
        {
          "output_type": "stream",
          "name": "stdout",
          "text": [
            "x1 1-Norm is: 26\n",
            "x1 2-Norm is: 13.19090595827292\n",
            "x1 Infinity-Norm is: 9\n",
            "x2 1-Norm is: 98\n",
            "x2 2-Norm is: 89.16277250063504\n",
            "x2 Infinity-Norm is: 89\n"
          ]
        }
      ],
      "source": [
        "import numpy as np\n",
        "\n",
        "x1 = np.array([[2], [3], [4], [8], [9]])\n",
        "x1 = np.abs(x1)\n",
        "x2 = np.array([[2], [-3], [-4], [89]])\n",
        "x2 = np.abs(x2)\n",
        "\n",
        "# FOR X1\n",
        "L11 = 0\n",
        "L12 = 0\n",
        "L1inf = 0\n",
        "\n",
        "for i in range(x1.shape[0]):\n",
        "    L11 += x1[i, 0]\n",
        "\n",
        "L12 = x1 @ x1.T\n",
        "eigenvalues, eigenvectors = np.linalg.eig(L12)\n",
        "L12 = np.max(eigenvalues)\n",
        "L12 = np.sqrt(L12)\n",
        "\n",
        "L1inf = np.max(x1);\n",
        "\n",
        "# FOR X2\n",
        "L21 = 0\n",
        "L22 = 0\n",
        "L2inf = 0\n",
        "\n",
        "for i in range(x2.shape[0]):\n",
        "    L21 += x2[i, 0]\n",
        "\n",
        "L22 = x2 @ x2.T\n",
        "eigenvalues, eigenvectors = np.linalg.eig(L22)\n",
        "L22 = np.max(eigenvalues)\n",
        "L22 = np.sqrt(L22)\n",
        "\n",
        "L2inf = np.max(x2);\n",
        "\n",
        "# print results\n",
        "# for x1\n",
        "print(f\"x1 1-Norm is: {L11}\")\n",
        "print(f\"x1 2-Norm is: {L12}\")\n",
        "print(f\"x1 Infinity-Norm is: {L1inf}\")\n",
        "# for x2\n",
        "# Print the results\n",
        "print(f\"x2 1-Norm is: {L21}\")\n",
        "print(f\"x2 2-Norm is: {L22}\")\n",
        "print(f\"x2 Infinity-Norm is: {L2inf}\")\n",
        "\n",
        "\n"
      ]
    },
    {
      "cell_type": "markdown",
      "source": [
        "PROBLEM 2:\n",
        "\n",
        "A. The length of the feature vector is 3,145,728\n",
        "\n",
        "B. The length of the output vector is 12,288\n",
        "\n",
        "C. The number of elements in W is 38,654,705,664. The number of elements in b is 12,288."
      ],
      "metadata": {
        "id": "TEPGyTJMo6-U"
      }
    },
    {
      "cell_type": "code",
      "source": [
        "length_x = 1024**2\n",
        "length_y = 64**2\n",
        "\n",
        "# three channels: red, green, and blue\n",
        "length_x = 3*length_x\n",
        "length_y = 3*length_y\n",
        "\n",
        "print(f\"The length of the feature vector, x, is {length_x}\")\n",
        "print(f\"The length of the output vector, y, is {length_y}\")\n",
        "\n",
        "W = np.zeros((length_y, length_x))  # W has shape (length_y, length_x)\n",
        "b = np.zeros(length_y)              # b has shape (length_y)\n",
        "\n",
        "# Number of elements in W and b\n",
        "elements_W = W.size\n",
        "elements_b = b.size\n",
        "\n",
        "print(f\"Number of elements in W: {elements_W}\")\n",
        "print(f\"Number of elements in b: {elements_b}\")\n"
      ],
      "metadata": {
        "colab": {
          "base_uri": "https://localhost:8080/"
        },
        "id": "OIG7Kf5ypLsD",
        "outputId": "d7100717-8107-4409-eb22-463f33e40f73"
      },
      "execution_count": null,
      "outputs": [
        {
          "output_type": "stream",
          "name": "stdout",
          "text": [
            "The length of the feature vector, x, is 3145728\n",
            "The length of the output vector, y, is 12288\n",
            "Number of elements in W: 38654705664\n",
            "Number of elements in b: 12288\n"
          ]
        }
      ]
    },
    {
      "cell_type": "markdown",
      "source": [
        "PROBLEM 3:\n",
        "\n",
        "W 1-Norm is: 3.0\n",
        "\n",
        "W 2-Norm is: 2.288245611270737\n",
        "\n",
        "W Infinity-Norm is: 2.0\n",
        "\n",
        "W Frobenius-Norm is: 2.449489742783178"
      ],
      "metadata": {
        "id": "yT8VCfXKtSnE"
      }
    },
    {
      "cell_type": "code",
      "source": [
        "W = ([[1, -1], [2, 0]])\n",
        "W = np.abs(W)\n",
        "\n",
        "L1 = np.zeros(W.shape[1])\n",
        "L2 = 0\n",
        "Linf = np.zeros(W.shape[0])\n",
        "Fnorm = 0\n",
        "\n",
        "for j in range(W.shape[1]):\n",
        "  for i in range(W.shape[0]):\n",
        "    L1[j] += W[i, j]\n",
        "\n",
        "L1 = np.max(L1)\n",
        "\n",
        "L2 = W @ W.T\n",
        "eigenvalues, eigenvectors = np.linalg.eig(L2)\n",
        "L2 = np.max(eigenvalues)\n",
        "L2 = np.sqrt(L2)\n",
        "\n",
        "for i in range(W.shape[0]):\n",
        "  Linf[i] = np.sum(np.abs(W[i, :]))\n",
        "\n",
        "Linf = np.max(Linf);\n",
        "\n",
        "Fnorm = np.sqrt(np.sum(W**2))\n",
        "\n",
        "# print results\n",
        "print(f\"W 1-Norm is: {L1}\")\n",
        "print(f\"W 2-Norm is: {L2}\")\n",
        "print(f\"W Infinity-Norm is: {Linf}\")\n",
        "print(f\"W Frobenius-Norm is: {Fnorm}\")\n"
      ],
      "metadata": {
        "colab": {
          "base_uri": "https://localhost:8080/"
        },
        "id": "GcWGcgLJtgjr",
        "outputId": "28251f91-3907-4579-cbc4-08503416f7fd"
      },
      "execution_count": null,
      "outputs": [
        {
          "output_type": "stream",
          "name": "stdout",
          "text": [
            "W 1-Norm is: 3.0\n",
            "W 2-Norm is: 2.288245611270737\n",
            "W Infinity-Norm is: 2.0\n",
            "W Frobenius-Norm is: 2.449489742783178\n"
          ]
        }
      ]
    },
    {
      "cell_type": "markdown",
      "source": [
        "PROBLEM 4:\n",
        "\n",
        "The new accuracy score choosing the first 3 out of 4 original features instead of 2 is 0.9333333333333333\n"
      ],
      "metadata": {
        "id": "T2e2hU-ayhhz"
      }
    },
    {
      "cell_type": "code",
      "source": [
        "from sklearn import datasets\n",
        "\n",
        "iris = datasets.load_iris()\n",
        "\n",
        "iris.data\n",
        "\n",
        "iris.feature_names\n",
        "\n",
        "iris.target_names\n",
        "\n",
        "iris.target\n",
        "\n",
        "X = iris.data[:, :3] # only selecting first three features\n",
        "y = iris.target\n",
        "\n",
        "from sklearn.model_selection import train_test_split\n",
        "\n",
        "X_train, X_test, y_train, y_test=train_test_split(\n",
        "    X,y,\n",
        "    test_size=0.40,\n",
        "    train_size=0.60,\n",
        "    random_state=123,\n",
        "    shuffle=True,\n",
        "    stratify=y)\n",
        "\n",
        "from sklearn import svm\n",
        "\n",
        "clf = svm.SVC()\n",
        "clf.fit(X_train, y_train)\n",
        "\n",
        "preds = clf.predict(X_test)\n",
        "print(preds)\n",
        "\n",
        "print('actual iris species')\n",
        "print(y_test)\n",
        "\n",
        "from sklearn.metrics import accuracy_score\n",
        "acc = accuracy_score(y_test,clf.predict(X_test) )\n",
        "print('accuracy score :', acc)\n"
      ],
      "metadata": {
        "colab": {
          "base_uri": "https://localhost:8080/",
          "height": 0
        },
        "id": "XFIGdmPQ5gZj",
        "outputId": "3600ba2a-0e7f-439c-bd96-48e76993d609"
      },
      "execution_count": 1,
      "outputs": [
        {
          "output_type": "stream",
          "name": "stdout",
          "text": [
            "[1 1 1 1 0 2 2 0 0 2 0 2 2 1 2 0 1 2 0 2 2 0 2 0 0 2 1 0 0 0 0 0 1 2 0 1 1\n",
            " 2 0 1 0 2 2 2 0 2 2 2 0 0 1 1 2 1 2 1 1 2 1 1]\n",
            "actual iris species\n",
            "[1 1 1 1 0 1 2 0 0 2 0 2 2 1 2 0 1 2 0 2 2 0 1 0 0 2 1 0 0 0 0 0 1 2 0 1 1\n",
            " 2 0 1 0 2 2 2 0 2 2 1 0 0 1 1 2 1 2 1 1 2 1 2]\n",
            "accuracy score : 0.9333333333333333\n"
          ]
        }
      ]
    },
    {
      "cell_type": "markdown",
      "source": [
        "PROBLEM 5:"
      ],
      "metadata": {
        "id": "TyAMtGzR62sJ"
      }
    },
    {
      "cell_type": "code",
      "source": [
        "import tensorflow as tf\n",
        "from numpy import loadtxt\n",
        "from keras.models import Sequential\n",
        "from keras.layers import Dense\n",
        "from keras import optimizers\n",
        "from tensorflow.python.keras.optimizers import *\n",
        "import numpy as np\n",
        "\n",
        "\n",
        "#Load dataset\n",
        "#split into input (X) and output (y)\n",
        "X = np.array([[1], [4], [9], [16], [25], [36], [49], [64], [81], [100]])\n",
        "X = X*1.0\n",
        "y = np.array([[1], [1.2190], [1.3687], [1.4860], [1.5838], [1.6685], [1.7436], [1.8114], [1.8734], [1.9307]])\n",
        "y = y*1.0\n",
        "\n",
        "#define keras model\n",
        "model = Sequential()\n",
        "\n",
        "model.add(Dense(6,input_dim=1,activation='relu'))\n",
        "model.add(Dense(6,activation='relu'))\n",
        "model.add(Dense(6,activation='relu'))\n",
        "model.add(Dense(1))\n",
        "\n",
        "#compile the keras model\n",
        "opt = optimizers.Adam(learning_rate=0.001)\n",
        "mse = tf.keras.losses.MeanSquaredError(\n",
        "    reduction=tf.keras.losses.Reduction.SUM)\n",
        "model.compile(loss=mse, optimizer=opt)\n",
        "\n",
        "\n",
        "\n",
        "#fit the keras model on the dataset (CPU)\n",
        "model.fit(X,y,epochs=2000,batch_size=10, verbose=0)\n",
        "model.summary()\n",
        "\n",
        "#make class predictions with the model\n",
        "predictions = model.predict(X)\n",
        "\n",
        "#summarize the first 10 cases\n",
        "for i in range(10):\n",
        "    print('%s => %.2f (expected %.2f)' %(X[i].tolist(), predictions[i], y[i]) )\n",
        "\n",
        "import matplotlib.pyplot as plt\n",
        "number_grid = np.linspace(1, 100, 100)\n",
        "plt.scatter(X,y, label='data')\n",
        "plt.plot(number_grid,model.predict(np.expand_dims(number_grid,axis=1)) , color='red', label='model')\n",
        "plt.xlabel('number')\n",
        "plt.ylabel('seventh root')\n",
        "plt.legend()"
      ],
      "metadata": {
        "colab": {
          "base_uri": "https://localhost:8080/",
          "height": 1003
        },
        "id": "S81Wtv1i67CR",
        "outputId": "5e7d82d7-6d46-4367-e8d5-a56972d66227"
      },
      "execution_count": 4,
      "outputs": [
        {
          "output_type": "display_data",
          "data": {
            "text/plain": [
              "\u001b[1mModel: \"sequential_2\"\u001b[0m\n"
            ],
            "text/html": [
              "<pre style=\"white-space:pre;overflow-x:auto;line-height:normal;font-family:Menlo,'DejaVu Sans Mono',consolas,'Courier New',monospace\"><span style=\"font-weight: bold\">Model: \"sequential_2\"</span>\n",
              "</pre>\n"
            ]
          },
          "metadata": {}
        },
        {
          "output_type": "display_data",
          "data": {
            "text/plain": [
              "┏━━━━━━━━━━━━━━━━━━━━━━━━━━━━━━━━━━━━━━┳━━━━━━━━━━━━━━━━━━━━━━━━━━━━━┳━━━━━━━━━━━━━━━━━┓\n",
              "┃\u001b[1m \u001b[0m\u001b[1mLayer (type)                        \u001b[0m\u001b[1m \u001b[0m┃\u001b[1m \u001b[0m\u001b[1mOutput Shape               \u001b[0m\u001b[1m \u001b[0m┃\u001b[1m \u001b[0m\u001b[1m        Param #\u001b[0m\u001b[1m \u001b[0m┃\n",
              "┡━━━━━━━━━━━━━━━━━━━━━━━━━━━━━━━━━━━━━━╇━━━━━━━━━━━━━━━━━━━━━━━━━━━━━╇━━━━━━━━━━━━━━━━━┩\n",
              "│ dense_8 (\u001b[38;5;33mDense\u001b[0m)                      │ (\u001b[38;5;45mNone\u001b[0m, \u001b[38;5;34m6\u001b[0m)                   │              \u001b[38;5;34m12\u001b[0m │\n",
              "├──────────────────────────────────────┼─────────────────────────────┼─────────────────┤\n",
              "│ dense_9 (\u001b[38;5;33mDense\u001b[0m)                      │ (\u001b[38;5;45mNone\u001b[0m, \u001b[38;5;34m6\u001b[0m)                   │              \u001b[38;5;34m42\u001b[0m │\n",
              "├──────────────────────────────────────┼─────────────────────────────┼─────────────────┤\n",
              "│ dense_10 (\u001b[38;5;33mDense\u001b[0m)                     │ (\u001b[38;5;45mNone\u001b[0m, \u001b[38;5;34m6\u001b[0m)                   │              \u001b[38;5;34m42\u001b[0m │\n",
              "├──────────────────────────────────────┼─────────────────────────────┼─────────────────┤\n",
              "│ dense_11 (\u001b[38;5;33mDense\u001b[0m)                     │ (\u001b[38;5;45mNone\u001b[0m, \u001b[38;5;34m1\u001b[0m)                   │               \u001b[38;5;34m7\u001b[0m │\n",
              "└──────────────────────────────────────┴─────────────────────────────┴─────────────────┘\n"
            ],
            "text/html": [
              "<pre style=\"white-space:pre;overflow-x:auto;line-height:normal;font-family:Menlo,'DejaVu Sans Mono',consolas,'Courier New',monospace\">┏━━━━━━━━━━━━━━━━━━━━━━━━━━━━━━━━━━━━━━┳━━━━━━━━━━━━━━━━━━━━━━━━━━━━━┳━━━━━━━━━━━━━━━━━┓\n",
              "┃<span style=\"font-weight: bold\"> Layer (type)                         </span>┃<span style=\"font-weight: bold\"> Output Shape                </span>┃<span style=\"font-weight: bold\">         Param # </span>┃\n",
              "┡━━━━━━━━━━━━━━━━━━━━━━━━━━━━━━━━━━━━━━╇━━━━━━━━━━━━━━━━━━━━━━━━━━━━━╇━━━━━━━━━━━━━━━━━┩\n",
              "│ dense_8 (<span style=\"color: #0087ff; text-decoration-color: #0087ff\">Dense</span>)                      │ (<span style=\"color: #00d7ff; text-decoration-color: #00d7ff\">None</span>, <span style=\"color: #00af00; text-decoration-color: #00af00\">6</span>)                   │              <span style=\"color: #00af00; text-decoration-color: #00af00\">12</span> │\n",
              "├──────────────────────────────────────┼─────────────────────────────┼─────────────────┤\n",
              "│ dense_9 (<span style=\"color: #0087ff; text-decoration-color: #0087ff\">Dense</span>)                      │ (<span style=\"color: #00d7ff; text-decoration-color: #00d7ff\">None</span>, <span style=\"color: #00af00; text-decoration-color: #00af00\">6</span>)                   │              <span style=\"color: #00af00; text-decoration-color: #00af00\">42</span> │\n",
              "├──────────────────────────────────────┼─────────────────────────────┼─────────────────┤\n",
              "│ dense_10 (<span style=\"color: #0087ff; text-decoration-color: #0087ff\">Dense</span>)                     │ (<span style=\"color: #00d7ff; text-decoration-color: #00d7ff\">None</span>, <span style=\"color: #00af00; text-decoration-color: #00af00\">6</span>)                   │              <span style=\"color: #00af00; text-decoration-color: #00af00\">42</span> │\n",
              "├──────────────────────────────────────┼─────────────────────────────┼─────────────────┤\n",
              "│ dense_11 (<span style=\"color: #0087ff; text-decoration-color: #0087ff\">Dense</span>)                     │ (<span style=\"color: #00d7ff; text-decoration-color: #00d7ff\">None</span>, <span style=\"color: #00af00; text-decoration-color: #00af00\">1</span>)                   │               <span style=\"color: #00af00; text-decoration-color: #00af00\">7</span> │\n",
              "└──────────────────────────────────────┴─────────────────────────────┴─────────────────┘\n",
              "</pre>\n"
            ]
          },
          "metadata": {}
        },
        {
          "output_type": "display_data",
          "data": {
            "text/plain": [
              "\u001b[1m Total params: \u001b[0m\u001b[38;5;34m311\u001b[0m (1.22 KB)\n"
            ],
            "text/html": [
              "<pre style=\"white-space:pre;overflow-x:auto;line-height:normal;font-family:Menlo,'DejaVu Sans Mono',consolas,'Courier New',monospace\"><span style=\"font-weight: bold\"> Total params: </span><span style=\"color: #00af00; text-decoration-color: #00af00\">311</span> (1.22 KB)\n",
              "</pre>\n"
            ]
          },
          "metadata": {}
        },
        {
          "output_type": "display_data",
          "data": {
            "text/plain": [
              "\u001b[1m Trainable params: \u001b[0m\u001b[38;5;34m103\u001b[0m (412.00 B)\n"
            ],
            "text/html": [
              "<pre style=\"white-space:pre;overflow-x:auto;line-height:normal;font-family:Menlo,'DejaVu Sans Mono',consolas,'Courier New',monospace\"><span style=\"font-weight: bold\"> Trainable params: </span><span style=\"color: #00af00; text-decoration-color: #00af00\">103</span> (412.00 B)\n",
              "</pre>\n"
            ]
          },
          "metadata": {}
        },
        {
          "output_type": "display_data",
          "data": {
            "text/plain": [
              "\u001b[1m Non-trainable params: \u001b[0m\u001b[38;5;34m0\u001b[0m (0.00 B)\n"
            ],
            "text/html": [
              "<pre style=\"white-space:pre;overflow-x:auto;line-height:normal;font-family:Menlo,'DejaVu Sans Mono',consolas,'Courier New',monospace\"><span style=\"font-weight: bold\"> Non-trainable params: </span><span style=\"color: #00af00; text-decoration-color: #00af00\">0</span> (0.00 B)\n",
              "</pre>\n"
            ]
          },
          "metadata": {}
        },
        {
          "output_type": "display_data",
          "data": {
            "text/plain": [
              "\u001b[1m Optimizer params: \u001b[0m\u001b[38;5;34m208\u001b[0m (836.00 B)\n"
            ],
            "text/html": [
              "<pre style=\"white-space:pre;overflow-x:auto;line-height:normal;font-family:Menlo,'DejaVu Sans Mono',consolas,'Courier New',monospace\"><span style=\"font-weight: bold\"> Optimizer params: </span><span style=\"color: #00af00; text-decoration-color: #00af00\">208</span> (836.00 B)\n",
              "</pre>\n"
            ]
          },
          "metadata": {}
        },
        {
          "output_type": "stream",
          "name": "stdout",
          "text": [
            "\u001b[1m1/1\u001b[0m \u001b[32m━━━━━━━━━━━━━━━━━━━━\u001b[0m\u001b[37m\u001b[0m \u001b[1m0s\u001b[0m 61ms/step\n"
          ]
        },
        {
          "output_type": "stream",
          "name": "stderr",
          "text": [
            "<ipython-input-4-c38507837ddb>:42: DeprecationWarning: Conversion of an array with ndim > 0 to a scalar is deprecated, and will error in future. Ensure you extract a single element from your array before performing this operation. (Deprecated NumPy 1.25.)\n",
            "  print('%s => %.2f (expected %.2f)' %(X[i].tolist(), predictions[i], y[i]) )\n",
            "WARNING:tensorflow:5 out of the last 14 calls to <function TensorFlowTrainer.make_predict_function.<locals>.one_step_on_data_distributed at 0x7957048a3370> triggered tf.function retracing. Tracing is expensive and the excessive number of tracings could be due to (1) creating @tf.function repeatedly in a loop, (2) passing tensors with different shapes, (3) passing Python objects instead of tensors. For (1), please define your @tf.function outside of the loop. For (2), @tf.function has reduce_retracing=True option that can avoid unnecessary retracing. For (3), please refer to https://www.tensorflow.org/guide/function#controlling_retracing and https://www.tensorflow.org/api_docs/python/tf/function for  more details.\n"
          ]
        },
        {
          "output_type": "stream",
          "name": "stdout",
          "text": [
            "[1.0] => 1.27 (expected 1.00)\n",
            "[4.0] => 1.29 (expected 1.22)\n",
            "[9.0] => 1.33 (expected 1.37)\n",
            "[16.0] => 1.39 (expected 1.49)\n",
            "[25.0] => 1.46 (expected 1.58)\n",
            "[36.0] => 1.55 (expected 1.67)\n",
            "[49.0] => 1.65 (expected 1.74)\n",
            "[64.0] => 1.77 (expected 1.81)\n",
            "[81.0] => 1.91 (expected 1.87)\n",
            "[100.0] => 2.06 (expected 1.93)\n",
            "\u001b[1m4/4\u001b[0m \u001b[32m━━━━━━━━━━━━━━━━━━━━\u001b[0m\u001b[37m\u001b[0m \u001b[1m0s\u001b[0m 4ms/step \n"
          ]
        },
        {
          "output_type": "execute_result",
          "data": {
            "text/plain": [
              "<matplotlib.legend.Legend at 0x79570450efe0>"
            ]
          },
          "metadata": {},
          "execution_count": 4
        },
        {
          "output_type": "display_data",
          "data": {
            "text/plain": [
              "<Figure size 640x480 with 1 Axes>"
            ],
            "image/png": "[encoded data removed]"
          },
          "metadata": {}
        }
      ]
    },
    {
      "cell_type": "markdown",
      "source": [
        "PROBLEM 6:\n",
        "\n"
      ],
      "metadata": {
        "id": "k9fROH48QQ5K"
      }
    },
    {
      "cell_type": "code",
      "source": [
        "import tensorflow as tf\n",
        "from numpy import loadtxt\n",
        "from keras.models import Sequential\n",
        "from keras.layers import Dense\n",
        "from keras import optimizers\n",
        "from tensorflow.python.keras.optimizers import *\n",
        "import numpy as np\n",
        "\n",
        "#Load dataset\n",
        "#define input (X) and output (y)\n",
        "from sklearn import datasets\n",
        "\n",
        "iris = datasets.load_iris()\n",
        "iris.data\n",
        "\n",
        "X = iris.data[:, 0] # only selecting sepal length\n",
        "y = iris.data[:, 2] # only selecting petal length\n",
        "\n",
        "# Reshape the data to ensure it's in the correct shape for the neural network\n",
        "X = X.reshape(-1, 1)\n",
        "y = y.reshape(-1, 1)\n",
        "\n",
        "from sklearn.model_selection import train_test_split\n",
        "\n",
        "X_train, X_test, y_train, y_test=train_test_split(\n",
        "    X,y,\n",
        "    test_size=0.40,\n",
        "    train_size=0.60,\n",
        "    random_state=123,\n",
        "    shuffle=True,\n",
        ")\n",
        "\n",
        "#define keras model (neural network)\n",
        "model = Sequential()\n",
        "model.add(Dense(10,input_dim=1,activation='relu'))\n",
        "model.add(Dense(10,activation='relu'))\n",
        "model.add(Dense(10,activation='relu'))\n",
        "model.add(Dense(1))\n",
        "#compile the keras model\n",
        "opt = optimizers.Adam(learning_rate=0.001)\n",
        "mse = tf.keras.losses.MeanSquaredError(reduction=tf.keras.losses.Reduction.SUM)\n",
        "model.compile(loss=mse, optimizer=opt)\n",
        "\n",
        "#fit the keras model on the dataset (CPU)\n",
        "model.fit(X,y,epochs=2000,batch_size=10, verbose=0) # model is trying to learn here\n",
        "model.summary()\n",
        "#make class predictions with the model\n",
        "predictions = model.predict(X_test)\n",
        "#summarize the first 10 cases\n",
        "for i in range(len(X_test)):\n",
        "  print('%s => %.2f (expected %.2f)' %(X_test[i].tolist(), predictions[i], y_test[i]))"
      ],
      "metadata": {
        "colab": {
          "base_uri": "https://localhost:8080/",
          "height": 1387
        },
        "id": "HPHzENy10CRH",
        "outputId": "166e95c9-0d0d-49d6-8458-6e565b56d964"
      },
      "execution_count": 3,
      "outputs": [
        {
          "output_type": "display_data",
          "data": {
            "text/plain": [
              "\u001b[1mModel: \"sequential_1\"\u001b[0m\n"
            ],
            "text/html": [
              "<pre style=\"white-space:pre;overflow-x:auto;line-height:normal;font-family:Menlo,'DejaVu Sans Mono',consolas,'Courier New',monospace\"><span style=\"font-weight: bold\">Model: \"sequential_1\"</span>\n",
              "</pre>\n"
            ]
          },
          "metadata": {}
        },
        {
          "output_type": "display_data",
          "data": {
            "text/plain": [
              "┏━━━━━━━━━━━━━━━━━━━━━━━━━━━━━━━━━━━━━━┳━━━━━━━━━━━━━━━━━━━━━━━━━━━━━┳━━━━━━━━━━━━━━━━━┓\n",
              "┃\u001b[1m \u001b[0m\u001b[1mLayer (type)                        \u001b[0m\u001b[1m \u001b[0m┃\u001b[1m \u001b[0m\u001b[1mOutput Shape               \u001b[0m\u001b[1m \u001b[0m┃\u001b[1m \u001b[0m\u001b[1m        Param #\u001b[0m\u001b[1m \u001b[0m┃\n",
              "┡━━━━━━━━━━━━━━━━━━━━━━━━━━━━━━━━━━━━━━╇━━━━━━━━━━━━━━━━━━━━━━━━━━━━━╇━━━━━━━━━━━━━━━━━┩\n",
              "│ dense_4 (\u001b[38;5;33mDense\u001b[0m)                      │ (\u001b[38;5;45mNone\u001b[0m, \u001b[38;5;34m10\u001b[0m)                  │              \u001b[38;5;34m20\u001b[0m │\n",
              "├──────────────────────────────────────┼─────────────────────────────┼─────────────────┤\n",
              "│ dense_5 (\u001b[38;5;33mDense\u001b[0m)                      │ (\u001b[38;5;45mNone\u001b[0m, \u001b[38;5;34m10\u001b[0m)                  │             \u001b[38;5;34m110\u001b[0m │\n",
              "├──────────────────────────────────────┼─────────────────────────────┼─────────────────┤\n",
              "│ dense_6 (\u001b[38;5;33mDense\u001b[0m)                      │ (\u001b[38;5;45mNone\u001b[0m, \u001b[38;5;34m10\u001b[0m)                  │             \u001b[38;5;34m110\u001b[0m │\n",
              "├──────────────────────────────────────┼─────────────────────────────┼─────────────────┤\n",
              "│ dense_7 (\u001b[38;5;33mDense\u001b[0m)                      │ (\u001b[38;5;45mNone\u001b[0m, \u001b[38;5;34m1\u001b[0m)                   │              \u001b[38;5;34m11\u001b[0m │\n",
              "└──────────────────────────────────────┴─────────────────────────────┴─────────────────┘\n"
            ],
            "text/html": [
              "<pre style=\"white-space:pre;overflow-x:auto;line-height:normal;font-family:Menlo,'DejaVu Sans Mono',consolas,'Courier New',monospace\">┏━━━━━━━━━━━━━━━━━━━━━━━━━━━━━━━━━━━━━━┳━━━━━━━━━━━━━━━━━━━━━━━━━━━━━┳━━━━━━━━━━━━━━━━━┓\n",
              "┃<span style=\"font-weight: bold\"> Layer (type)                         </span>┃<span style=\"font-weight: bold\"> Output Shape                </span>┃<span style=\"font-weight: bold\">         Param # </span>┃\n",
              "┡━━━━━━━━━━━━━━━━━━━━━━━━━━━━━━━━━━━━━━╇━━━━━━━━━━━━━━━━━━━━━━━━━━━━━╇━━━━━━━━━━━━━━━━━┩\n",
              "│ dense_4 (<span style=\"color: #0087ff; text-decoration-color: #0087ff\">Dense</span>)                      │ (<span style=\"color: #00d7ff; text-decoration-color: #00d7ff\">None</span>, <span style=\"color: #00af00; text-decoration-color: #00af00\">10</span>)                  │              <span style=\"color: #00af00; text-decoration-color: #00af00\">20</span> │\n",
              "├──────────────────────────────────────┼─────────────────────────────┼─────────────────┤\n",
              "│ dense_5 (<span style=\"color: #0087ff; text-decoration-color: #0087ff\">Dense</span>)                      │ (<span style=\"color: #00d7ff; text-decoration-color: #00d7ff\">None</span>, <span style=\"color: #00af00; text-decoration-color: #00af00\">10</span>)                  │             <span style=\"color: #00af00; text-decoration-color: #00af00\">110</span> │\n",
              "├──────────────────────────────────────┼─────────────────────────────┼─────────────────┤\n",
              "│ dense_6 (<span style=\"color: #0087ff; text-decoration-color: #0087ff\">Dense</span>)                      │ (<span style=\"color: #00d7ff; text-decoration-color: #00d7ff\">None</span>, <span style=\"color: #00af00; text-decoration-color: #00af00\">10</span>)                  │             <span style=\"color: #00af00; text-decoration-color: #00af00\">110</span> │\n",
              "├──────────────────────────────────────┼─────────────────────────────┼─────────────────┤\n",
              "│ dense_7 (<span style=\"color: #0087ff; text-decoration-color: #0087ff\">Dense</span>)                      │ (<span style=\"color: #00d7ff; text-decoration-color: #00d7ff\">None</span>, <span style=\"color: #00af00; text-decoration-color: #00af00\">1</span>)                   │              <span style=\"color: #00af00; text-decoration-color: #00af00\">11</span> │\n",
              "└──────────────────────────────────────┴─────────────────────────────┴─────────────────┘\n",
              "</pre>\n"
            ]
          },
          "metadata": {}
        },
        {
          "output_type": "display_data",
          "data": {
            "text/plain": [
              "\u001b[1m Total params: \u001b[0m\u001b[38;5;34m755\u001b[0m (2.95 KB)\n"
            ],
            "text/html": [
              "<pre style=\"white-space:pre;overflow-x:auto;line-height:normal;font-family:Menlo,'DejaVu Sans Mono',consolas,'Courier New',monospace\"><span style=\"font-weight: bold\"> Total params: </span><span style=\"color: #00af00; text-decoration-color: #00af00\">755</span> (2.95 KB)\n",
              "</pre>\n"
            ]
          },
          "metadata": {}
        },
        {
          "output_type": "display_data",
          "data": {
            "text/plain": [
              "\u001b[1m Trainable params: \u001b[0m\u001b[38;5;34m251\u001b[0m (1004.00 B)\n"
            ],
            "text/html": [
              "<pre style=\"white-space:pre;overflow-x:auto;line-height:normal;font-family:Menlo,'DejaVu Sans Mono',consolas,'Courier New',monospace\"><span style=\"font-weight: bold\"> Trainable params: </span><span style=\"color: #00af00; text-decoration-color: #00af00\">251</span> (1004.00 B)\n",
              "</pre>\n"
            ]
          },
          "metadata": {}
        },
        {
          "output_type": "display_data",
          "data": {
            "text/plain": [
              "\u001b[1m Non-trainable params: \u001b[0m\u001b[38;5;34m0\u001b[0m (0.00 B)\n"
            ],
            "text/html": [
              "<pre style=\"white-space:pre;overflow-x:auto;line-height:normal;font-family:Menlo,'DejaVu Sans Mono',consolas,'Courier New',monospace\"><span style=\"font-weight: bold\"> Non-trainable params: </span><span style=\"color: #00af00; text-decoration-color: #00af00\">0</span> (0.00 B)\n",
              "</pre>\n"
            ]
          },
          "metadata": {}
        },
        {
          "output_type": "display_data",
          "data": {
            "text/plain": [
              "\u001b[1m Optimizer params: \u001b[0m\u001b[38;5;34m504\u001b[0m (1.97 KB)\n"
            ],
            "text/html": [
              "<pre style=\"white-space:pre;overflow-x:auto;line-height:normal;font-family:Menlo,'DejaVu Sans Mono',consolas,'Courier New',monospace\"><span style=\"font-weight: bold\"> Optimizer params: </span><span style=\"color: #00af00; text-decoration-color: #00af00\">504</span> (1.97 KB)\n",
              "</pre>\n"
            ]
          },
          "metadata": {}
        },
        {
          "output_type": "stream",
          "name": "stdout",
          "text": [
            "\u001b[1m2/2\u001b[0m \u001b[32m━━━━━━━━━━━━━━━━━━━━\u001b[0m\u001b[37m\u001b[0m \u001b[1m0s\u001b[0m 46ms/step\n",
            "[6.3] => 4.84 (expected 4.90)\n",
            "[6.8] => 5.47 (expected 5.50)\n",
            "[6.4] => 4.97 (expected 5.60)\n",
            "[5.6] => 3.44 (expected 4.10)\n",
            "[4.9] => 1.81 (expected 1.40)\n",
            "[6.0] => 4.37 (expected 4.80)\n",
            "[6.3] => 4.84 (expected 4.40)\n",
            "[4.4] => 0.65 (expected 1.30)\n",
            "[4.4] => 0.65 (expected 1.40)\n",
            "[5.5] => 3.21 (expected 4.40)\n",
            "[6.9] => 5.59 (expected 5.10)\n",
            "[5.5] => 3.21 (expected 1.40)\n",
            "[5.2] => 2.51 (expected 3.90)\n",
            "[6.5] => 5.09 (expected 5.50)\n",
            "[7.7] => 6.59 (expected 6.10)\n",
            "[6.5] => 5.09 (expected 5.80)\n",
            "[5.5] => 3.21 (expected 1.30)\n",
            "[4.3] => 0.42 (expected 1.10)\n",
            "[6.1] => 4.59 (expected 4.70)\n",
            "[4.8] => 1.58 (expected 1.40)\n",
            "[5.2] => 2.51 (expected 1.40)\n",
            "[6.3] => 4.84 (expected 5.10)\n",
            "[4.8] => 1.58 (expected 1.90)\n",
            "[6.1] => 4.59 (expected 4.90)\n",
            "[5.1] => 2.28 (expected 1.60)\n",
            "[5.4] => 2.97 (expected 1.70)\n",
            "[5.4] => 2.97 (expected 1.50)\n",
            "[5.6] => 3.44 (expected 4.90)\n",
            "[7.7] => 6.59 (expected 6.70)\n",
            "[5.0] => 2.04 (expected 1.40)\n",
            "[7.4] => 6.22 (expected 6.10)\n",
            "[6.0] => 4.37 (expected 5.00)\n",
            "[4.7] => 1.35 (expected 1.60)\n",
            "[5.1] => 2.28 (expected 1.40)\n",
            "[6.0] => 4.37 (expected 4.00)\n",
            "[5.0] => 2.04 (expected 3.30)\n",
            "[7.9] => 6.84 (expected 6.40)\n",
            "[5.4] => 2.97 (expected 1.70)\n",
            "[5.4] => 2.97 (expected 1.30)\n",
            "[5.8] => 3.90 (expected 3.90)\n",
            "[5.0] => 2.04 (expected 3.50)\n",
            "[5.0] => 2.04 (expected 1.20)\n",
            "[6.8] => 5.47 (expected 5.90)\n",
            "[6.7] => 5.34 (expected 5.20)\n",
            "[5.8] => 3.90 (expected 5.10)\n",
            "[5.8] => 3.90 (expected 5.10)\n",
            "[6.3] => 4.84 (expected 5.60)\n",
            "[5.5] => 3.21 (expected 4.00)\n",
            "[5.1] => 2.28 (expected 1.50)\n",
            "[4.4] => 0.65 (expected 1.30)\n",
            "[6.5] => 5.09 (expected 5.10)\n",
            "[5.1] => 2.28 (expected 1.70)\n",
            "[4.9] => 1.81 (expected 1.50)\n",
            "[6.7] => 5.34 (expected 4.70)\n",
            "[6.1] => 4.59 (expected 4.60)\n",
            "[5.5] => 3.21 (expected 4.00)\n",
            "[5.7] => 3.67 (expected 3.50)\n",
            "[5.8] => 3.90 (expected 5.10)\n",
            "[6.7] => 5.34 (expected 4.40)\n",
            "[6.4] => 4.97 (expected 5.30)\n"
          ]
        },
        {
          "output_type": "stream",
          "name": "stderr",
          "text": [
            "<ipython-input-3-6c687ce4b63b>:51: DeprecationWarning: Conversion of an array with ndim > 0 to a scalar is deprecated, and will error in future. Ensure you extract a single element from your array before performing this operation. (Deprecated NumPy 1.25.)\n",
            "  print('%s => %.2f (expected %.2f)' %(X_test[i].tolist(), predictions[i], y_test[i]))\n"
          ]
        }
      ]
    }
  ]
}